{
 "cells": [
  {
   "cell_type": "markdown",
   "source": [
    "### Some markdown is never a bad idea\n"
   ],
   "metadata": {
    "collapsed": false
   }
  },
  {
   "cell_type": "code",
   "execution_count": null,
   "outputs": [],
   "source": [
    "import pandas as pd\n",
    "import numpy as np\n",
    "import matplotlib as mpl\n",
    "import matplotlib.pyplot as plt\n",
    "import time\n",
    "\n",
    "import seaborn as sns\n",
    "import itertools\n",
    "# Tools for machine learning\n",
    "from sklearn.ensemble import GradientBoostingClassifier\n",
    "from sklearn.ensemble import AdaBoostClassifier \n",
    "from sklearn.ensemble import RandomForestClassifier\n",
    "from sklearn.naive_bayes import GaussianNB\n",
    "from sklearn.neighbors import KNeighborsClassifier\n",
    "from sklearn import linear_model\n",
    "from sklearn.metrics import confusion_matrix\n",
    "from sklearn.metrics import classification_report, accuracy_score\n",
    "from sklearn.calibration import CalibratedClassifierCV\n",
    "from sklearn import model_selection\n",
    "from sklearn.model_selection import train_test_split\n",
    "from sklearn.metrics import make_scorer\n",
    "from sklearn.decomposition import PCA, FastICA\n",
    "from sklearn.pipeline import Pipeline"
   ],
   "metadata": {
    "collapsed": false,
    "pycharm": {
     "name": "#%%\n"
    }
   }
  },
  {
   "cell_type": "code",
   "execution_count": null,
   "outputs": [],
   "source": [
    "matches = pd.read_csv('../data/seasons_merged.csv')\n",
    "letter_to_result = {'H': 1, 'D': 0, 'A': -1}\n",
    "\n",
    "matches"
   ],
   "metadata": {
    "collapsed": false,
    "pycharm": {
     "name": "#%%\n"
    }
   }
  },
  {
   "cell_type": "code",
   "execution_count": null,
   "outputs": [],
   "source": [
    "def get_n_last_matches(matches, date, team, n = 10):\n",
    "    '''\n",
    "    Get the last n matches of a given team.\n",
    "    '''\n",
    "    # All matches with a given team\n",
    "    team_matches = matches[(matches['HomeTeam'] == team) | (matches['AwayTeam'] == team)]\n",
    "    \n",
    "    #Filter n last matches from team matches\n",
    "    n_last_matches = (team_matches[team_matches.Date < date]\n",
    "                      .sort_values(by = 'Date', ascending = False)\n",
    "                      .iloc[0:n,:])\n",
    "    \n",
    "    return n_last_matches\n",
    "\n",
    "\n",
    "def get_n_last_matches_against_each_other(matches, date, home_team, away_team, n = 5):\n",
    "    ''' \n",
    "    Get the last n matches of two given teams. If possible, else\n",
    "    get all matches available\n",
    "    '''\n",
    "    \n",
    "    home_matches = matches[(matches['HomeTeam'] == home_team) & (matches['AwayTeam'] == away_team)]    \n",
    "    away_matches = matches[(matches['HomeTeam'] == away_team) & (matches['AwayTeam'] == home_team)]  \n",
    "    total_matches = pd.concat([home_matches, away_matches])\n",
    "    \n",
    "    # Get last n matches, if possible:\n",
    "    try:    \n",
    "        last_matches = (total_matches[total_matches.Date < date]\n",
    "                        .sort_values(by = 'Date', ascending = False)\n",
    "                        .iloc[0:n,:])\n",
    "    except:  # If there are less than n matches\n",
    "        last_matches = (total_matches[total_matches.Date < date]\n",
    "                        .sort_values(by = 'Date', ascending = False)\n",
    "                        .iloc[0:total_matches.shape[0],:])\n",
    "\n",
    "    return last_matches\n",
    "\n",
    "\n",
    "def get_goals(matches, team):\n",
    "    '''\n",
    "    Get total number of goals,a specfic team has scored \n",
    "    from a dataframe of specific matches\n",
    "    '''\n",
    "    home_goals = matches.FTHG[matches.HomeTeam == team].sum()\n",
    "    away_goals = matches.FTAG[matches.AwayTeam == team].sum()\n",
    "\n",
    "    return home_goals + away_goals\n",
    "\n",
    "def get_concealed_goals(matches, team):\n",
    "    '''\n",
    "    Get all the goals, concealed of a specfic team from a dataframe of specific matches\n",
    "    '''\n",
    "    home_goals = matches.FTAG[matches.HomeTeam == team].sum()\n",
    "    away_goals = matches.FTHG[matches.AwayTeam == team].sum()\n",
    "\n",
    "    return home_goals + away_goals\n",
    "\n",
    "def get_wins(matches, team):\n",
    "    '''\n",
    "    Get the number of wins of a specfic team from a dataframe of specific matches.\n",
    "    '''\n",
    "    home_wins = matches[(matches.FTR == 1) & (matches.HomeTeam == team)].shape[0]\n",
    "    away_wins = matches[(matches.FTR == -1) & (matches.AwayTeam == team)].shape[0]\n",
    "\n",
    "    return home_wins + away_wins\n",
    "\n",
    "\n",
    "def coefficients_to_probability(matches):\n",
    "    '''\n",
    "    Converts betting platform coefficient(1 < x) with % of income\n",
    "    into a probability coefficient(0 < x < 1)\n",
    "    '''\n",
    "    # How many profit betting companies make on bets\n",
    "    matches['profit_B365'] = sum((1/matches['B365H'], 1/matches['B365D'], 1/matches['B365A']))\n",
    "    matches['profit_BbAv'] = sum((1/matches['BbAvA'], 1/matches['BbAvD'], 1/matches['BbAvH']))\n",
    "\n",
    "    # Converting all betting coefficients into probabilities of homw/draw/away:\n",
    "    for betting_column in ['B365H', 'B365D', 'B365A', 'BbAvH', 'BbAvD', 'BbAvA']:\n",
    "        matches[betting_column] = 1 / (matches[betting_column] * matches['profit_' + betting_column[:-1]])\n",
    "\n",
    "    return matches\n",
    "# get_n_last_matches_against_each_other(matches, '2020-12-15', 'Liverpool', 'Tottenham', 10)\n"
   ],
   "metadata": {
    "collapsed": false,
    "pycharm": {
     "name": "#%%\n"
    }
   }
  },
  {
   "cell_type": "code",
   "execution_count": null,
   "outputs": [],
   "source": [
    "# Create features, based on which, the model would train and predict results\n",
    "\n",
    "def get_features_for_match(match, matches, n1=10, n2=3):\n",
    "    '''\n",
    "    Creates a special set of features for each match, if possible(10 last matches\n",
    "    and 3 last matches against each other)\n",
    "    '''\n",
    "    match_date = match.Date\n",
    "    home_team = match.HomeTeam\n",
    "    away_team = match.AwayTeam\n",
    "    # Get n1 last matches of 2 teams\n",
    "    home_last = get_n_last_matches(matches, match_date, home_team, n=n1)\n",
    "    away_last = get_n_last_matches(matches, match_date, away_team, n=n1)\n",
    "    # Get last n2 matches against each other\n",
    "    home_last_against = get_n_last_matches_against_each_other(matches, match_date, home_team, away_team, n=n2)\n",
    "    away_last_against = get_n_last_matches_against_each_other(matches, match_date, away_team, home_team, n=n2)\n",
    "    # Goals stuff\n",
    "    home_goals = get_goals(home_last, home_team)\n",
    "    away_goals = get_goals(away_last, away_team)\n",
    "    home_goals_conceided = get_concealed_goals(home_last, home_team)\n",
    "    away_goals_conceided = get_concealed_goals(away_last, away_team)\n",
    "\n",
    "    res = pd.DataFrame()\n",
    "    res.loc[0, 'H_goal_diff'] = home_goals - home_goals_conceided\n",
    "    res.loc[0, 'A_goal_diff'] = away_goals - away_goals_conceided\n",
    "    res.loc[0, 'H_win'] = get_wins(home_last, home_team) \n",
    "    res.loc[0, 'A_win'] = get_wins(away_last, away_team)\n",
    "    res.loc[0, 'H_win_against'] = get_wins(home_last_against, home_team)\n",
    "    res.loc[0, 'A_win_against'] = get_wins(away_last_against, away_team)\n",
    "    # TODO ПОПРООБУВАТИ ЩЕ ЯКІСЬ КРИТЕРІЇ ПОТЕСТУВАТИ\n",
    "#     print(result.loc[0])\n",
    "    return res.loc[0]\n",
    "\n",
    "\n",
    "def create_features(matches):\n",
    "    '''\n",
    "    Iterate throu all matches, create features for every single of them\n",
    "    if possible and aggregate them together\n",
    "    '''\n",
    "    print('Generating features... Please wait for one or two minutes')\n",
    "    # Creates dataframe with features for all matches\n",
    "    matches_features = matches.apply(lambda x: get_features_for_match(x, matches, n1=12, n2=3), axis=1)\n",
    "    return matches_features\n",
    "\n",
    "def explore_features(features, inputs, path):\n",
    "    '''\n",
    "    Explore data by plotting KDE graphs.\n",
    "    '''\n",
    "    fig = plt.figure(1)\n",
    "    fig.subplots_adjust(bottom= -1, left=0.025, top = 2, right=0.975)\n",
    "    #Loop through features    \n",
    "    i = 1\n",
    "    for col in features.columns:\n",
    "        sns.set_style(\"whitegrid\")\n",
    "        sns.set_context(\"paper\", font_scale = 0.5, rc={\"lines.linewidth\": 1})\n",
    "        plt.subplot(5,5,0 + i)\n",
    "        j = i - 1\n",
    "        #Plot KDE for all labels\n",
    "        try:\n",
    "            sns.distplot(inputs[inputs['label'] == 'H'].iloc[:,j], hist = False, label = 'Home')\n",
    "            sns.distplot(inputs[inputs['label'] == 'D'].iloc[:,j], hist = False, label = 'Draw')\n",
    "            sns.distplot(inputs[inputs['label'] == 'A'].iloc[:,j], hist = False, label = 'Away')\n",
    "            plt.legend();\n",
    "        except ValueError as e:\n",
    "            print(e)\n",
    "        i = i + 1\n",
    "    #Define plot format    \n",
    "    DefaultSize = fig.get_size_inches()\n",
    "    fig.set_size_inches((DefaultSize[0]*1.2, DefaultSize[1]*1.2))\n",
    "    plt.show()\n",
    "    #Compute and print label weights\n",
    "    labels = inputs.loc[:,'label']\n",
    "    class_weights = labels.value_counts() / len(labels)\n",
    "    print(class_weights)\n",
    "    #Store description of all features\n",
    "    feature_details = features.describe().transpose()\n",
    "    #Return feature details\n",
    "    return feature_details"
   ],
   "metadata": {
    "collapsed": false,
    "pycharm": {
     "name": "#%%\n"
    }
   }
  },
  {
   "cell_type": "code",
   "execution_count": null,
   "outputs": [],
   "source": [
    "# Getting features ready\n",
    "\n",
    "time_start = time.time()\n",
    "features = create_features(matches)\n",
    "features2 = features.copy()\n",
    "print('Generated features in', time.time() - time_start, 'sec.')\n",
    "\n",
    "\n"
   ],
   "metadata": {
    "collapsed": false,
    "pycharm": {
     "name": "#%%\n"
    }
   }
  },
  {
   "cell_type": "code",
   "execution_count": null,
   "outputs": [],
   "source": [
    "inputs = features2.copy()\n",
    "labels = matches.loc[:, 'HTR']\n",
    "labels.name = 'label'\n",
    "\n",
    "# # Printing statistics to see the correlations:\n",
    "# statistic = explore_features(features, inputs, '/soccer/')\n",
    "# statistic\n",
    "\n",
    "# features = coefficients_to_probability(matches)[['B365H','B365D','B365A','BbAvH','BbAvD','BbAvA']]\n",
    "# features = pd.merge(features, inputs, left_index=True, right_index=True)\n",
    "features = inputs\n",
    "features"
   ],
   "metadata": {
    "collapsed": false,
    "pycharm": {
     "name": "#%%\n"
    }
   }
  },
  {
   "cell_type": "markdown",
   "source": [
    "# Machine learning part \n"
   ],
   "metadata": {
    "collapsed": false
   }
  },
  {
   "cell_type": "code",
   "execution_count": null,
   "outputs": [],
   "source": [
    "import xgboost as xgb\n",
    "from sklearn.linear_model import LogisticRegression\n",
    "from sklearn.ensemble import RandomForestClassifier\n",
    "from sklearn.svm import SVC"
   ],
   "metadata": {
    "collapsed": false,
    "pycharm": {
     "name": "#%%\n"
    }
   }
  },
  {
   "cell_type": "code",
   "execution_count": null,
   "outputs": [],
   "source": [
    "from time import time\n",
    "from sklearn.metrics import f1_score\n",
    "\n",
    "def train_classifier(clf, X_train, y_train):\n",
    "    ''' Fits a classifier to the training data. '''\n",
    "    \n",
    "    # Start the clock, train the classifier, then stop the clock\n",
    "    start = time()\n",
    "    clf.fit(X_train, y_train)\n",
    "    end = time()\n",
    "    \n",
    "    # Print the results\n",
    "    print(\"Trained model in {:.4f} seconds\".format(end - start))\n",
    "\n",
    "    \n",
    "def predict_labels(clf, features, target):\n",
    "    ''' Makes predictions using a fit classifier based on F1 score. '''\n",
    "    \n",
    "    # Start the clock, make predictions, then stop the clock\n",
    "    start = time()\n",
    "    y_pred = clf.predict_proba(features)\n",
    "    \n",
    "    end = time()\n",
    "    # Print and return results\n",
    "    print(\"Made predictions in {:.4f} seconds.\".format(end - start))\n",
    "    # f1_score(target, y_pred, pos_label='H'),\n",
    "    return sum(target == y_pred) / float(len(y_pred))\n",
    "\n",
    "\n",
    "def train_predict(clf, X_train, y_train, X_test, y_test):\n",
    "    ''' Train and predict using a classifer based on F1 score. '''\n",
    "    \n",
    "    # Indicate the classifier and the training set size\n",
    "    print(\"Training a {} using a training set size of {}. . .\".format(clf.__class__.__name__, len(X_train)))\n",
    "    \n",
    "    # Train the classifier\n",
    "    train_classifier(clf, X_train, y_train)\n",
    "\n",
    "    # Print the results of prediction for both training and testing\n",
    "    #f1, \n",
    "    f1 = 'hz'\n",
    "    acc = predict_labels(clf, X_train, y_train)\n",
    "    print(f1, acc)\n",
    "    print(\"F1 score and accuracy score for training set: {:.4f} , {:.4f}.\".format(f1 , acc))\n",
    "    \n",
    "    #f1, \n",
    "    acc = predict_labels(clf, X_test, y_test)\n",
    "    print(\"F1 score and accuracy score for test set: {:.4f} , {:.4f}.\".format(f1 , acc))"
   ],
   "metadata": {
    "collapsed": false,
    "pycharm": {
     "name": "#%%\n"
    }
   }
  },
  {
   "cell_type": "code",
   "execution_count": null,
   "outputs": [],
   "source": [
    "X_train, X_test, y_train, y_test = train_test_split(features, labels, \n",
    "                                                    test_size = 50,\n",
    "                                                    random_state = 2,\n",
    "                                                    stratify = labels)\n",
    "X_test.head()"
   ],
   "metadata": {
    "collapsed": false,
    "pycharm": {
     "name": "#%%\n"
    }
   }
  },
  {
   "cell_type": "code",
   "execution_count": null,
   "outputs": [],
   "source": [
    "# Splitting the data into training and test sets:\n",
    "X_train, X_test, y_train, y_test = train_test_split(features, labels, \n",
    "                                                    test_size = 50,\n",
    "                                                    random_state = 2,\n",
    "                                                    stratify = labels)\n",
    "\n",
    "# Classifiers\n",
    "y_train = y_train.apply(lambda x: letter_to_result[x])\n",
    "\n",
    "clf_A = LogisticRegression(random_state = 42)\n",
    "clf_B = SVC(random_state = 912, kernel='rbf')\n",
    "clf_C = xgb.XGBClassifier(seed = 82)\n",
    "\n",
    "# y_train = y_train.apply(lambda x: 1 if x == 1 else 0)\n",
    "# clf_C.fit(X_train, y_train)\n",
    "# train_predict(clf_A, X_train, y_train, X_test, y_test)\n",
    "# print()\n",
    "# train_predict(clf_B, X_train, y_train, X_test, y_test)\n",
    "# print()\n",
    "# train_predict(clf_C, X_train, y_train, X_test, y_test)\n",
    "# print()\n",
    "\n",
    "clf_C.fit(X_train, y_train)\n",
    "\n",
    "\n",
    "# make a prediction\n",
    "ynew = clf_C.predict_proba(X_test.iloc[-1:])\n",
    "\n",
    "print(ynew[0][0], type(ynew))\n",
    "X_test.iloc[-1:]"
   ],
   "metadata": {
    "collapsed": false,
    "pycharm": {
     "name": "#%%\n"
    }
   }
  },
  {
   "cell_type": "markdown",
   "source": [
    "### Методом спроб і помилок я визначив, що під цю проблему найкраще підходить XGBClassifier. \n",
    "Тому лишилось його відкалібрувати"
   ],
   "metadata": {
    "collapsed": false
   }
  },
  {
   "cell_type": "code",
   "execution_count": null,
   "outputs": [],
   "source": [
    "from sklearn.grid_search import GridSearchCV\n",
    "from sklearn.metrics import make_scorer\n",
    "\n",
    "parameters = { 'learning_rate' : [0.1],\n",
    "               'n_estimators' : [40],\n",
    "               'max_depth': [3],\n",
    "               'min_child_weight': [3],\n",
    "               'gamma':[0.4],\n",
    "               'subsample' : [0.8],\n",
    "               'colsample_bytree' : [0.8],\n",
    "               'scale_pos_weight' : [1],\n",
    "               'reg_alpha':[1e-5]\n",
    "             }  \n",
    "\n",
    "# TODO: Initialize the classifier\n",
    "clf = xgb.XGBClassifier(seed=2)\n",
    "\n",
    "# TODO: Make an f1 scoring function using 'make_scorer' \n",
    "f1_scorer = make_scorer(f1_score, pos_label='H')\n",
    "\n",
    "# TODO: Perform grid search on the classifier using the f1_scorer as the scoring method\n",
    "grid_obj = GridSearchCV(clf,\n",
    "                        scoring=f1_scorer,\n",
    "                        param_grid=parameters,\n",
    "                        cv=5)\n",
    "\n",
    "# TODO: Fit the grid search object to the training data and find the optimal parameters\n",
    "grid_obj = grid_obj.fit(X_train,y_train)\n",
    "\n",
    "# Get the estimator\n",
    "clf = grid_obj.best_estimator_\n",
    "print clf\n",
    "\n",
    "# Report the final F1 score for training and testing after parameter tuning\n",
    "f1, acc = predict_labels(clf, X_train, y_train)\n",
    "print \"F1 score and accuracy score for training set: {:.4f} , {:.4f}.\".format(f1 , acc)\n",
    "    \n",
    "f1, acc = predict_labels(clf, X_test, y_test)\n",
    "print \"F1 score and accuracy score for test set: {:.4f} , {:.4f}.\".format(f1 , acc)\n",
    "\n",
    "XGBClassifier(base_score=0.5, colsample_bylevel=1, colsample_bytree=0.8,\n",
    "       gamma=0.4, learning_rate=0.1, max_delta_step=0, max_depth=3,\n",
    "       min_child_weight=3, missing=None, n_estimators=40, nthread=-1,\n",
    "       objective='binary:logistic', reg_alpha=1e-05, reg_lambda=1,\n",
    "       scale_pos_weight=1, seed=2, silent=True, subsample=0.8)\n",
    "Made predictions in 0.0150 seconds.\n",
    "F1 score and accuracy score for training set: 0.6365 , 0.6827.\n",
    "Made predictions in 0.0000 seconds.\n",
    "F1 score and accuracy score for test set: 0.7826 , 0.8000.\n",
    "\n"
   ],
   "metadata": {
    "collapsed": false,
    "pycharm": {
     "name": "#%%\n"
    }
   }
  }
 ],
 "metadata": {
  "_change_revision": 2,
  "_is_fork": false,
  "kernelspec": {
   "display_name": "Python 3",
   "language": "python",
   "name": "python3"
  },
  "language_info": {
   "codemirror_mode": {
    "name": "ipython",
    "version": 3
   },
   "file_extension": ".py",
   "mimetype": "text/x-python",
   "name": "python",
   "nbconvert_exporter": "python",
   "pygments_lexer": "ipython3",
   "version": "3.8.2"
  }
 },
 "nbformat": 4,
 "nbformat_minor": 1
}