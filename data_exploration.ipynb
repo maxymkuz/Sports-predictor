{
 "cells": [
  {
   "cell_type": "code",
   "execution_count": 2,
   "metadata": {},
   "outputs": [],
   "source": [
    "import pandas as pd\n",
    "import numpy as np\n",
    "import matplotlib as mpl\n",
    "import matplotlib.pyplot as plt\n"
   ]
  },
  {
   "cell_type": "code",
   "execution_count": 3,
   "metadata": {},
   "outputs": [],
   "source": [
    "seasons_merged = pd.read_csv('data/seasons_merged.csv')\n",
    "\n"
   ]
  },
  {
   "cell_type": "code",
   "execution_count": 9,
   "metadata": {},
   "outputs": [
    {
     "data": {
      "text/plain": [
       "1758"
      ]
     },
     "execution_count": 9,
     "metadata": {},
     "output_type": "execute_result"
    }
   ],
   "source": [
    "def get_home_wins(seasons_merged):\n",
    "    \"\"\" (pandas Dataframe)-> int\n",
    "    Returns a total number of times, the home team has won \n",
    "    \"\"\"\n",
    "    home = seasons_merged.loc[seasons_merged['FTR'] == 'H']\n",
    "    return home.shape[0]\n",
    "get_home_wins(seasons_merged)"
   ]
  },
  {
   "cell_type": "code",
   "execution_count": 10,
   "metadata": {},
   "outputs": [
    {
     "data": {
      "text/plain": [
       "1102"
      ]
     },
     "execution_count": 10,
     "metadata": {},
     "output_type": "execute_result"
    }
   ],
   "source": [
    "def get_away_wins(seasons_merged):\n",
    "    \"\"\" (pandas Dataframe)-> int\n",
    "    Returns a total number of times, the away team has won\n",
    "    \"\"\"\n",
    "    away = seasons_merged.loc[seasons_merged['FTR'] == 'A']\n",
    "    return away.shape[0]\n",
    "get_away_wins(seasons_merged)"
   ]
  },
  {
   "cell_type": "code",
   "execution_count": 27,
   "metadata": {},
   "outputs": [
    {
     "name": "stdout",
     "output_type": "stream",
     "text": [
      "0.29 0.4626315789473684\n"
     ]
    },
    {
     "data": {
      "image/png": "[encoded data removed]",
      "text/plain": [
       "<Figure size 432x288 with 1 Axes>"
      ]
     },
     "metadata": {},
     "output_type": "display_data"
    }
   ],
   "source": [
    "def draw_home_away_wins(seasons_merged):\n",
    "    \"\"\"\n",
    "    Reads a dataset and draws a pie chart with the percentage of\n",
    "    home, away and draw results\n",
    "    \"\"\"\n",
    "    num_matches = seasons_merged.shape[0]\n",
    "    away_percentage = get_away_wins(seasons_merged) / num_matches\n",
    "    home_percentage = get_home_wins(seasons_merged) / num_matches\n",
    "    draw_percentage = 1 - away_percentage - home_percentage\n",
    "    print(away_percentage, home_percentage)\n",
    "\n",
    "    # Creating the pie chart\n",
    "    sizes = [away_percentage, home_percentage, draw_percentage]\n",
    "    explode = (0, 0.05, 0)\n",
    "    fig1, ax1 = plt.subplots()\n",
    "    ax1.pie(sizes, explode=explode, autopct='%1.1f%%',\n",
    "            shadow=True, startangle=90)\n",
    "    ax1.axis('equal')  # Equal aspect ratio ensures that pie is drawn as a circle.\n",
    "    ax1.set_title('%Перемог вдома vs на виїзді')\n",
    "    plt.labels = 'Away', 'Home', 'Draw'\n",
    "    plt.legend(plt.labels)\n",
    "    plt.show()\n",
    "\n",
    "draw_home_away_wins(seasons_merged)"
   ]
  },
  {
   "cell_type": "code",
   "execution_count": null,
   "metadata": {},
   "outputs": [],
   "source": []
  },
  {
   "cell_type": "code",
   "execution_count": null,
   "metadata": {},
   "outputs": [],
   "source": []
  },
  {
   "cell_type": "code",
   "execution_count": null,
   "metadata": {},
   "outputs": [],
   "source": []
  },
  {
   "cell_type": "code",
   "execution_count": null,
   "metadata": {},
   "outputs": [],
   "source": []
  }
 ],
 "metadata": {
  "kernelspec": {
   "display_name": "Python 3",
   "language": "python",
   "name": "python3"
  },
  "language_info": {
   "codemirror_mode": {
    "name": "ipython",
    "version": 3
   },
   "file_extension": ".py",
   "mimetype": "text/x-python",
   "name": "python",
   "nbconvert_exporter": "python",
   "pygments_lexer": "ipython3",
   "version": "3.7.4"
  }
 },
 "nbformat": 4,
 "nbformat_minor": 4
}
